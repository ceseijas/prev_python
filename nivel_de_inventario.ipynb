{
  "nbformat": 4,
  "nbformat_minor": 0,
  "metadata": {
    "colab": {
      "provenance": [],
      "authorship_tag": "ABX9TyOB+wy/Ieznr+pg05EZp+CZ",
      "include_colab_link": true
    },
    "kernelspec": {
      "name": "python3",
      "display_name": "Python 3"
    },
    "language_info": {
      "name": "python"
    }
  },
  "cells": [
    {
      "cell_type": "markdown",
      "metadata": {
        "id": "view-in-github",
        "colab_type": "text"
      },
      "source": [
        "<a href=\"https://colab.research.google.com/github/ceseijas/prev_python/blob/master/nivel_de_inventario.ipynb\" target=\"_parent\"><img src=\"https://colab.research.google.com/assets/colab-badge.svg\" alt=\"Open In Colab\"/></a>"
      ]
    },
    {
      "cell_type": "code",
      "execution_count": 1,
      "metadata": {
        "colab": {
          "base_uri": "https://localhost:8080/"
        },
        "id": "d4kXDb_ke4jN",
        "outputId": "793f1442-17a6-46ed-9d55-bc792c5d0dc6"
      },
      "outputs": [
        {
          "output_type": "stream",
          "name": "stdout",
          "text": [
            "Productos con stock por debajo del umbral crítico:\n",
            "ID: 4, Nombre: Producto 4, Stock: 3\n"
          ]
        }
      ],
      "source": [
        "# Definir una lista de productos con stock\n",
        "productos = [\n",
        "    {\"id\": 1, \"nombre\": \"Producto 1\", \"stock\": 10},\n",
        "    {\"id\": 2, \"nombre\": \"Producto 2\", \"stock\": 5},\n",
        "    {\"id\": 3, \"nombre\": \"Producto 3\", \"stock\": 20},\n",
        "    {\"id\": 4, \"nombre\": \"Producto 4\", \"stock\": 3},\n",
        "    {\"id\": 5, \"nombre\": \"Producto 5\", \"stock\": 15}\n",
        "]\n",
        "\n",
        "# Definir el umbral crítico\n",
        "umbral_critico = 5\n",
        "\n",
        "# Función para identificar productos con stock bajo\n",
        "def identificar_productos_bajo_stock(productos, umbral_critico):\n",
        "    productos_bajo_stock = [producto for producto in productos if producto[\"stock\"] < umbral_critico]\n",
        "    return productos_bajo_stock\n",
        "\n",
        "# Llamar la función y obtener los productos con stock bajo\n",
        "productos_bajo_stock = identificar_productos_bajo_stock(productos, umbral_critico)\n",
        "\n",
        "# Mostrar los productos con stock bajo\n",
        "print(\"Productos con stock por debajo del umbral crítico:\")\n",
        "for producto in productos_bajo_stock:\n",
        "    print(f\"ID: {producto['id']}, Nombre: {producto['nombre']}, Stock: {producto['stock']}\")"
      ]
    }
  ]
}