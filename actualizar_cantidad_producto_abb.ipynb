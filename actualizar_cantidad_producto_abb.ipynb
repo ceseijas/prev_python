{
  "nbformat": 4,
  "nbformat_minor": 0,
  "metadata": {
    "colab": {
      "provenance": [],
      "authorship_tag": "ABX9TyO6a5uRQj3jOuZfO6PiqNmm",
      "include_colab_link": true
    },
    "kernelspec": {
      "name": "python3",
      "display_name": "Python 3"
    },
    "language_info": {
      "name": "python"
    }
  },
  "cells": [
    {
      "cell_type": "markdown",
      "metadata": {
        "id": "view-in-github",
        "colab_type": "text"
      },
      "source": [
        "<a href=\"https://colab.research.google.com/github/ceseijas/prev_python/blob/master/actualizar_cantidad_producto_abb.ipynb\" target=\"_parent\"><img src=\"https://colab.research.google.com/assets/colab-badge.svg\" alt=\"Open In Colab\"/></a>"
      ]
    },
    {
      "cell_type": "code",
      "execution_count": 1,
      "metadata": {
        "colab": {
          "base_uri": "https://localhost:8080/"
        },
        "id": "Kuk_mODEckSs",
        "outputId": "ae919736-e8b0-4797-a6d9-e8eb48f80572"
      },
      "outputs": [
        {
          "output_type": "stream",
          "name": "stdout",
          "text": [
            "Productos antes de la actualización:\n",
            "ID: 1, Nombre: Producto 1, Cantidad: 10\n",
            "ID: 2, Nombre: Producto 2, Cantidad: 20\n",
            "ID: 3, Nombre: Producto 3, Cantidad: 30\n",
            "\n",
            "Productos después de la actualización:\n",
            "ID: 1, Nombre: Producto 1, Cantidad: 10\n",
            "ID: 2, Nombre: Producto 2, Cantidad: 25\n",
            "ID: 3, Nombre: Producto 3, Cantidad: 30\n"
          ]
        }
      ],
      "source": [
        "# Importar bibliotecas necesarias\n",
        "import numpy as np\n",
        "\n",
        "# Definir la clase Nodo para el árbol binario de búsqueda\n",
        "class Nodo:\n",
        "    def __init__(self, id, nombre, cantidad):\n",
        "        self.id = id\n",
        "        self.nombre = nombre\n",
        "        self.cantidad = cantidad\n",
        "        self.izquierda = None\n",
        "        self.derecha = None\n",
        "\n",
        "# Definir la clase ArbolBinarioBusqueda\n",
        "class ArbolBinarioBusqueda:\n",
        "    def __init__(self):\n",
        "        self.raiz = None\n",
        "\n",
        "    # Insertar un nuevo producto en el árbol\n",
        "    def insertar(self, id, nombre, cantidad):\n",
        "        if self.raiz is None:\n",
        "            self.raiz = Nodo(id, nombre, cantidad)\n",
        "        else:\n",
        "            self._insertar(self.raiz, id, nombre, cantidad)\n",
        "\n",
        "    def _insertar(self, nodo, id, nombre, cantidad):\n",
        "        if id < nodo.id:\n",
        "            if nodo.izquierda is None:\n",
        "                nodo.izquierda = Nodo(id, nombre, cantidad)\n",
        "            else:\n",
        "                self._insertar(nodo.izquierda, id, nombre, cantidad)\n",
        "        else:\n",
        "            if nodo.derecha is None:\n",
        "                nodo.derecha = Nodo(id, nombre, cantidad)\n",
        "            else:\n",
        "                self._insertar(nodo.derecha, id, nombre, cantidad)\n",
        "\n",
        "    # Actualizar la cantidad de un producto en el árbol\n",
        "    def actualizar_cantidad(self, id, cantidad_nueva):\n",
        "        nodo = self.buscar(id)\n",
        "        if nodo is not None:\n",
        "            nodo.cantidad = cantidad_nueva\n",
        "        else:\n",
        "            print(\"Producto no encontrado\")\n",
        "\n",
        "    # Buscar un producto en el árbol por ID\n",
        "    def buscar(self, id):\n",
        "        return self._buscar(self.raiz, id)\n",
        "\n",
        "    def _buscar(self, nodo, id):\n",
        "        if nodo is None or nodo.id == id:\n",
        "            return nodo\n",
        "        if id < nodo.id:\n",
        "            return self._buscar(nodo.izquierda, id)\n",
        "        return self._buscar(nodo.derecha, id)\n",
        "\n",
        "    # Mostrar los productos en orden ascendente por ID\n",
        "    def mostrar_productos(self):\n",
        "        self._mostrar_productos(self.raiz)\n",
        "\n",
        "    def _mostrar_productos(self, nodo):\n",
        "        if nodo is not None:\n",
        "            self._mostrar_productos(nodo.izquierda)\n",
        "            print(f\"ID: {nodo.id}, Nombre: {nodo.nombre}, Cantidad: {nodo.cantidad}\")\n",
        "            self._mostrar_productos(nodo.derecha)\n",
        "\n",
        "\n",
        "# Crear un árbol binario de búsqueda\n",
        "abb = ArbolBinarioBusqueda()\n",
        "\n",
        "# Insertar productos en el árbol\n",
        "abb.insertar(1, \"Producto 1\", 10)\n",
        "abb.insertar(2, \"Producto 2\", 20)\n",
        "abb.insertar(3, \"Producto 3\", 30)\n",
        "\n",
        "# Mostrar los productos en orden ascendente por ID\n",
        "print(\"Productos antes de la actualización:\")\n",
        "abb.mostrar_productos()\n",
        "\n",
        "# Actualizar la cantidad de un producto\n",
        "abb.actualizar_cantidad(2, 25)\n",
        "\n",
        "# Mostrar los productos después de la actualización\n",
        "print(\"\\nProductos después de la actualización:\")\n",
        "abb.mostrar_productos()"
      ]
    }
  ]
}