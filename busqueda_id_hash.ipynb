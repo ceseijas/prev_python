{
  "nbformat": 4,
  "nbformat_minor": 0,
  "metadata": {
    "colab": {
      "provenance": [],
      "authorship_tag": "ABX9TyN4t2CtVZXeFcXLn5KWQCqu",
      "include_colab_link": true
    },
    "kernelspec": {
      "name": "python3",
      "display_name": "Python 3"
    },
    "language_info": {
      "name": "python"
    }
  },
  "cells": [
    {
      "cell_type": "markdown",
      "metadata": {
        "id": "view-in-github",
        "colab_type": "text"
      },
      "source": [
        "<a href=\"https://colab.research.google.com/github/ceseijas/prev_python/blob/master/busqueda_id_hash.ipynb\" target=\"_parent\"><img src=\"https://colab.research.google.com/assets/colab-badge.svg\" alt=\"Open In Colab\"/></a>"
      ]
    },
    {
      "cell_type": "code",
      "execution_count": 4,
      "metadata": {
        "colab": {
          "base_uri": "https://localhost:8080/"
        },
        "id": "2X8qz8yYZli7",
        "outputId": "85076f3e-f007-42dd-d2a6-ae49d02622c3"
      },
      "outputs": [
        {
          "output_type": "stream",
          "name": "stdout",
          "text": [
            "Tabla original:\n",
            "   id        name  quantity   price\n",
            "0   1  Smartphone        50  299.99\n",
            "1   2      Laptop        30  899.99\n",
            "2   3      Tablet        20  199.99\n",
            "3   4  Headphones       100   49.99\n",
            "4   5  Smartwatch        15  199.99\n",
            "\n",
            "Resultado de la búsqueda:\n",
            "   id    name  quantity   price\n",
            "2   3  Tablet        20  199.99\n"
          ]
        }
      ],
      "source": [
        "# Importar bibliotecas necesarias\n",
        "import pandas as pd\n",
        "import hashlib\n",
        "\n",
        "# Crear una tabla hash con datos de ejemplo\n",
        "data = {\n",
        "    'id': [1, 2, 3, 4, 5],\n",
        "    'name': ['Smartphone', 'Laptop', 'Tablet', 'Headphones', 'Smartwatch'],\n",
        "    'quantity': [50, 30, 20, 100, 15],\n",
        "    'price': [299.99, 899.99, 199.99, 49.99, 199.99]\n",
        "}\n",
        "\n",
        "df = pd.DataFrame(data)\n",
        "\n",
        "# Mostrar la tabla original\n",
        "print(\"Tabla original:\")\n",
        "print(df)\n",
        "\n",
        "# Definir la función de búsqueda\n",
        "def buscar_id(df, id_busqueda):\n",
        "    return df[df['id'] == id_busqueda]\n",
        "\n",
        "# Buscar un valor específico en el campo ID\n",
        "id_busqueda = 3\n",
        "resultado = buscar_id(df, id_busqueda)\n",
        "\n",
        "# Mostrar el resultado de la búsqueda\n",
        "print(\"\\nResultado de la búsqueda:\")\n",
        "print(resultado)\n",
        "\n",
        "\n",
        "\n"
      ]
    }
  ]
}