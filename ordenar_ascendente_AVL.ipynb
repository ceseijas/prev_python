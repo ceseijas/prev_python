{
  "nbformat": 4,
  "nbformat_minor": 0,
  "metadata": {
    "colab": {
      "provenance": [],
      "authorship_tag": "ABX9TyMCah+/0mHSQoHiDHtpwTfA",
      "include_colab_link": true
    },
    "kernelspec": {
      "name": "python3",
      "display_name": "Python 3"
    },
    "language_info": {
      "name": "python"
    }
  },
  "cells": [
    {
      "cell_type": "markdown",
      "metadata": {
        "id": "view-in-github",
        "colab_type": "text"
      },
      "source": [
        "<a href=\"https://colab.research.google.com/github/ceseijas/prev_python/blob/master/ordenar_ascendente_AVL.ipynb\" target=\"_parent\"><img src=\"https://colab.research.google.com/assets/colab-badge.svg\" alt=\"Open In Colab\"/></a>"
      ]
    },
    {
      "cell_type": "code",
      "execution_count": 3,
      "metadata": {
        "colab": {
          "base_uri": "https://localhost:8080/"
        },
        "id": "HnredY98dVT_",
        "outputId": "02f04016-2a0b-45f6-cd47-d7d7ea62069e"
      },
      "outputs": [
        {
          "output_type": "stream",
          "name": "stdout",
          "text": [
            "Productos en orden ascendente por precio:\n",
            "ID: 2, Nombre: Producto 2, Precio: 5.99, Cantidad: 20\n",
            "ID: 3, Nombre: Producto 3, Precio: 7.99, Cantidad: 30\n",
            "ID: 1, Nombre: Producto 1, Precio: 10.99, Cantidad: 10\n"
          ]
        }
      ],
      "source": [
        "\n",
        "# Importar bibliotecas necesarias\n",
        "import numpy as np\n",
        "\n",
        "# Definir la clase Nodo para el árbol AVL\n",
        "class Nodo:\n",
        "    def __init__(self, id, nombre, precio, cantidad):\n",
        "        self.id = id\n",
        "        self.nombre = nombre\n",
        "        self.precio = precio\n",
        "        self.cantidad = cantidad\n",
        "        self.izquierda = None\n",
        "        self.derecha = None\n",
        "        self.altura = 1\n",
        "\n",
        "# Definir la clase ArbolAVL\n",
        "class ArbolAVL:\n",
        "    def __init__(self):\n",
        "        self.raiz = None\n",
        "\n",
        "    # Insertar un nuevo producto en el árbol\n",
        "    def insertar(self, id, nombre, precio, cantidad):\n",
        "        self.raiz = self._insertar(self.raiz, id, nombre, precio, cantidad)\n",
        "\n",
        "    def _insertar(self, nodo, id, nombre, precio, cantidad):\n",
        "        if nodo is None:\n",
        "            return Nodo(id, nombre, precio, cantidad)\n",
        "        elif precio < nodo.precio:\n",
        "            nodo.izquierda = self._insertar(nodo.izquierda, id, nombre, precio, cantidad)\n",
        "        else:\n",
        "            nodo.derecha = self._insertar(nodo.derecha, id, nombre, precio, cantidad)\n",
        "\n",
        "        nodo.altura = max(self._altura(nodo.izquierda), self._altura(nodo.derecha)) + 1\n",
        "\n",
        "        balance = self._balance(nodo)\n",
        "\n",
        "        if balance > 1:\n",
        "            if precio < nodo.izquierda.precio:\n",
        "                return self._rotacion_derecha(nodo)\n",
        "            else:\n",
        "                nodo.izquierda = self._rotacion_izquierda(nodo.izquierda)\n",
        "                return self._rotacion_derecha(nodo)\n",
        "        if balance < -1:\n",
        "            if precio > nodo.derecha.precio:\n",
        "                return self._rotacion_izquierda(nodo)\n",
        "            else:\n",
        "                nodo.derecha = self._rotacion_derecha(nodo.derecha)\n",
        "                return self._rotacion_izquierda(nodo)\n",
        "\n",
        "        return nodo\n",
        "\n",
        "    # Rotaciones para mantener el balance del árbol\n",
        "    def _rotacion_izquierda(self, nodo):\n",
        "        temp = nodo.derecha\n",
        "        nodo.derecha = temp.izquierda\n",
        "        temp.izquierda = nodo\n",
        "\n",
        "        nodo.altura = max(self._altura(nodo.izquierda), self._altura(nodo.derecha)) + 1\n",
        "        temp.altura = max(self._altura(temp.izquierda), self._altura(temp.derecha)) + 1\n",
        "\n",
        "        return temp\n",
        "\n",
        "    def _rotacion_derecha(self, nodo):\n",
        "        temp = nodo.izquierda\n",
        "        nodo.izquierda = temp.derecha\n",
        "        temp.derecha = nodo\n",
        "\n",
        "        nodo.altura = max(self._altura(nodo.izquierda), self._altura(nodo.derecha)) + 1\n",
        "        temp.altura = max(self._altura(temp.izquierda), self._altura(temp.derecha)) + 1\n",
        "\n",
        "        return temp\n",
        "\n",
        "    # Calcular la altura de un nodo\n",
        "    def _altura(self, nodo):\n",
        "        if nodo is None:\n",
        "            return 0\n",
        "        return nodo.altura\n",
        "\n",
        "    # Calcular el balance de un nodo\n",
        "    def _balance(self, nodo):\n",
        "        if nodo is None:\n",
        "            return 0\n",
        "        return self._altura(nodo.izquierda) - self._altura(nodo.derecha)\n",
        "\n",
        "    # Mostrar los productos en orden ascendente por precio\n",
        "    def mostrar_productos(self):\n",
        "        self._mostrar_productos(self.raiz)\n",
        "\n",
        "    def _mostrar_productos(self, nodo):\n",
        "        if nodo is not None:\n",
        "            self._mostrar_productos(nodo.izquierda)\n",
        "            print(f\"ID: {nodo.id}, Nombre: {nodo.nombre}, Precio: {nodo.precio}, Cantidad: {nodo.cantidad}\")\n",
        "            self._mostrar_productos(nodo.derecha)\n",
        "\n",
        "\n",
        "# Crear un árbol AVL\n",
        "avl = ArbolAVL()\n",
        "\n",
        "# Insertar productos en el árbol\n",
        "avl.insertar(1, \"Producto 1\", 10.99, 10)\n",
        "avl.insertar(2, \"Producto 2\", 5.99, 20)\n",
        "avl.insertar(3, \"Producto 3\", 7.99, 30)\n",
        "\n",
        "# Mostrar los productos en orden ascendente por precio\n",
        "print(\"Productos en orden ascendente por precio:\")\n",
        "avl.mostrar_productos()\n"
      ]
    }
  ]
}